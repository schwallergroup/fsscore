{
 "cells": [
  {
   "cell_type": "code",
   "execution_count": null,
   "metadata": {},
   "outputs": [],
   "source": [
    "import rdkit\n",
    "from rdkit import Chem\n",
    "import pandas as pd\n",
    "from rdkit.Chem import RDConfig, rdMolDescriptors, Descriptors, PandasTools\n",
    "from syba.syba import SybaClassifier\n",
    "import os\n",
    "import sys\n",
    "sys.path.append(os.path.join(RDConfig.RDContribDir, 'SA_Score'))\n",
    "import sascorer\n",
    "\n",
    "root = os.path.dirname(os.getcwd())"
   ]
  },
  {
   "cell_type": "markdown",
   "metadata": {},
   "source": [
    "## Compute other scores and metrics"
   ]
  },
  {
   "cell_type": "code",
   "execution_count": null,
   "metadata": {},
   "outputs": [],
   "source": [
    "def calc_SAscore(mol):\n",
    "    return sascorer.calculateScore(mol)\n",
    "\n",
    "scscore_path = os.path.join(root, 'scscore')\n",
    "sys.path.append(scscore_path)\n",
    "from scscore.standalone_model_numpy import SCScorer\n",
    "model_sc = SCScorer()\n",
    "model_sc.restore(os.path.join(scscore_path, 'models', 'full_reaxys_model_2048bool', 'model.ckpt-10654.as_numpy.pickle'), FP_len=2048)\n",
    "\n",
    "def calc_SCscore(smi):\n",
    "    smi, score = model_sc.get_score_from_smi(smi)\n",
    "    return score\n",
    "\n",
    "syba = SybaClassifier()\n",
    "syba.fitDefaultScore()\n",
    "\n",
    "def calc_SYBA(smi, mol = None):\n",
    "    # takes very long\n",
    "    score = syba.predict(smi=smi, mol=mol)\n",
    "    return score\n",
    "\n",
    "def calc_logP(mol):\n",
    "    return rdMolDescriptors.CalcCrippenDescriptors(mol)[0]\n",
    "\n",
    "def calc_QED(mol):\n",
    "    return Descriptors.qed(mol)\n",
    "\n",
    "def calc_MW(mol):\n",
    "    return Descriptors.MolWt(mol)\n",
    "\n",
    "def calc_numheavyatoms(mol):\n",
    "    return mol.GetNumHeavyAtoms()"
   ]
  },
  {
   "cell_type": "code",
   "execution_count": null,
   "metadata": {},
   "outputs": [],
   "source": [
    "df_graph = pd.read_csv('/home/rebecca/code/intuitive-sc/results/uspto_cjhif_combo_test_reorder_combo_train_graph_sub100000_ep20_2023-07-11_scores.csv')\n",
    "df_fp = pd.read_csv('/home/rebecca/code/intuitive-sc/results/uspto_cjhif_combo_test_reorder_combo_train_fp_sub100000_ep20_2023-07-07_scores.csv')\n",
    "df_graph.head()"
   ]
  },
  {
   "cell_type": "code",
   "execution_count": null,
   "metadata": {},
   "outputs": [],
   "source": [
    "# add mols\n",
    "PandasTools.AddMoleculeColumnToFrame(df_graph, smilesCol='smiles_i', molCol='mol_i')\n",
    "PandasTools.AddMoleculeColumnToFrame(df_fp, smilesCol='smiles_i', molCol='mol_i')"
   ]
  },
  {
   "cell_type": "code",
   "execution_count": null,
   "metadata": {},
   "outputs": [],
   "source": [
    "from pathos import multiprocessing as mp\n",
    "from tqdm import tqdm\n",
    "import numpy as np\n",
    "\n",
    "def chunked_parallel(input_list, function, chunks = 1000, max_cpu = 20): \n",
    "    \"\"\"chunked_parallel\n",
    "\n",
    "    Args:\n",
    "        input_list : list of objects to apply function\n",
    "        function : Callable with 1 input and returning a single value\n",
    "        chunks: number of chunks\n",
    "        max_cpu: Max num cpus\n",
    "    \"\"\"\n",
    "\n",
    "    cpus = min(mp.cpu_count(), max_cpu)\n",
    "    pool = mp.Pool(processes = cpus)\n",
    "\n",
    "    def batch_func(list_inputs): \n",
    "        outputs = []\n",
    "        for i in list_inputs: \n",
    "            outputs.append(function(i))\n",
    "        return outputs\n",
    "\n",
    "    list_len = len(input_list)\n",
    "    num_chunks = min(list_len, chunks)\n",
    "    step_size = len(input_list) // num_chunks\n",
    "\n",
    "    chunked_list = [input_list[i:i+step_size] \n",
    "                    for i in range(0, len(input_list), step_size)]\n",
    "\n",
    "    list_outputs = list(tqdm(pool.imap(batch_func, chunked_list),\n",
    "                             total=num_chunks))\n",
    "    full_output = [j for i in list_outputs for j in i]\n",
    "    return full_output"
   ]
  },
  {
   "cell_type": "code",
   "execution_count": null,
   "metadata": {},
   "outputs": [],
   "source": [
    "def calc_all_scores(df, mol_col = 'mol_i', smiles_col = 'smiles_i'):\n",
    "    df['SA_score'] = chunked_parallel(df[mol_col], calc_SAscore)\n",
    "    df['SC_score'] = chunked_parallel(df[smiles_col], calc_SCscore)\n",
    "    df['SYBA_score'] = chunked_parallel(df[smiles_col], calc_SYBA)\n",
    "    df['logP'] = chunked_parallel(df[mol_col], calc_logP)\n",
    "    df['QED'] = chunked_parallel(df[mol_col], calc_QED)\n",
    "    df['MW'] = chunked_parallel(df[mol_col], calc_MW)\n",
    "    df['numheavyatoms'] = chunked_parallel(df[mol_col], calc_numheavyatoms)\n",
    "    return df"
   ]
  },
  {
   "cell_type": "code",
   "execution_count": null,
   "metadata": {},
   "outputs": [],
   "source": [
    "df_fp = calc_all_scores(df_fp)\n",
    "df_fp.head()"
   ]
  },
  {
   "cell_type": "code",
   "execution_count": null,
   "metadata": {},
   "outputs": [],
   "source": [
    "df_graph = calc_all_scores(df_graph)\n",
    "df_graph.head()"
   ]
  },
  {
   "cell_type": "code",
   "execution_count": null,
   "metadata": {},
   "outputs": [],
   "source": [
    "df_ra_fp = pd.read_csv('/home/rebecca/code/intuitive-sc/results/combo_test_fp_sub100000_ep20_2023-07-07_RAscores.csv')\n",
    "df_ra_graph = pd.read_csv('/home/rebecca/code/intuitive-sc/results/combo_test_graph_sub100000_ep20_2023-07-11_RAscores.csv')\n",
    "df_ra_fp.head()"
   ]
  },
  {
   "cell_type": "code",
   "execution_count": null,
   "metadata": {},
   "outputs": [],
   "source": [
    "df_fp = pd.read_csv('/home/rebecca/code/intuitive-sc/results/combo_test_fp_sub100000_ep20_2023-07-07_scores_all.csv')\n",
    "df_graph = pd.read_csv('/home/rebecca/code/intuitive-sc/results/combo_test_graph_sub100000_ep20_2023-07-11_scores_all.csv')\n",
    "df_fp.head()"
   ]
  },
  {
   "cell_type": "code",
   "execution_count": null,
   "metadata": {},
   "outputs": [],
   "source": [
    "PandasTools.AddMoleculeColumnToFrame(df_fp, smilesCol='smiles_i', molCol='mol_i')\n",
    "PandasTools.AddMoleculeColumnToFrame(df_graph, smilesCol='smiles_i', molCol='mol_i')"
   ]
  },
  {
   "cell_type": "code",
   "execution_count": null,
   "metadata": {},
   "outputs": [],
   "source": [
    "# add RA score to full df\n",
    "df_fp['RAscore'] = df_ra_fp['RAscore']\n",
    "df_graph['RAscore'] = df_ra_graph['RAscore']"
   ]
  },
  {
   "cell_type": "code",
   "execution_count": null,
   "metadata": {},
   "outputs": [],
   "source": [
    "df_fp.drop(columns=['mol_i'], inplace=True)\n",
    "df_fp.to_csv('/home/rebecca/code/intuitive-sc/results/combo_test_fp_sub100000_ep20_2023-07-07_scores_all.csv', index=False)\n",
    "df_graph.drop(columns=['mol_i'], inplace=True)\n",
    "df_graph.to_csv('/home/rebecca/code/intuitive-sc/results/combo_test_graph_sub100000_ep20_2023-07-11_scores_all.csv', index=False)"
   ]
  },
  {
   "cell_type": "markdown",
   "metadata": {},
   "source": [
    "## Analysis"
   ]
  },
  {
   "cell_type": "code",
   "execution_count": null,
   "metadata": {},
   "outputs": [],
   "source": [
    "df_fp = pd.read_csv('/home/rebecca/code/intuitive-sc/results/syba_testset_fpscored.csv')\n",
    "df_graph = pd.read_csv('/home/rebecca/code/intuitive-sc/results/syba_testset_graphscored.csv')\n",
    "smi_col = 'smi'"
   ]
  },
  {
   "cell_type": "code",
   "execution_count": null,
   "metadata": {},
   "outputs": [],
   "source": [
    "# deduplicate for analysis\n",
    "df_fp = df_fp.drop_duplicates(subset=[smi_col])\n",
    "df_graph = df_graph.drop_duplicates(subset=[smi_col])"
   ]
  },
  {
   "cell_type": "markdown",
   "metadata": {},
   "source": [
    "### Plot correlations"
   ]
  },
  {
   "cell_type": "code",
   "execution_count": null,
   "metadata": {},
   "outputs": [],
   "source": [
    "from scipy.stats import pearsonr\n",
    "\n",
    "def plot_scatter(ax, x1, y1, x2, y2, ylabel):\n",
    "    pcc_fp = pearsonr(x1, y1)[0]\n",
    "    pcc_graph = pearsonr(x2, y2)[0]\n",
    "    ax.scatter(x1, y1, alpha = 0.3, label = f'FP (PCC={pcc_fp:.3f})', s=2);\n",
    "    ax.scatter(x2, y2, alpha = 0.3, label = f'Graph (PCC={pcc_graph:.3f})', s=2);\n",
    "    ax.set_xlabel('ours');\n",
    "    ax.set_ylabel(ylabel);\n",
    "    ax.legend(loc='lower left');\n",
    "    ax.set_title(ylabel);\n",
    "    return pcc_fp, pcc_graph"
   ]
  },
  {
   "cell_type": "code",
   "execution_count": null,
   "metadata": {},
   "outputs": [],
   "source": [
    "import matplotlib.pyplot as plt\n",
    "\n",
    "fig, axs = plt.subplots(2,4,figsize=(17, 10), sharex=True)\n",
    "\n",
    "pcc_fp_new_sa, pcc_graph_new_sa = plot_scatter(axs[0,0], df_fp['score'], df_fp['SA_score'], df_graph['score'], df_graph['SA_score'], 'SA score')\n",
    "pcc_fp_new_sc, pcc_graph_new_sc = plot_scatter(axs[0,1], df_fp['score'], df_fp['SC_score'], df_graph['score'], df_graph['SC_score'], 'SC score')\n",
    "pcc_fp_new_syba, pcc_graph_new_syba = plot_scatter(axs[0,2], df_fp['score'], df_fp['SYBA_score'], df_graph['score'], df_graph['SYBA_score'], 'SYBA score')\n",
    "pcc_fp_new_ra, pcc_graph_new_ra = plot_scatter(axs[0,3], df_fp['score'], df_fp['RAscore'], df_graph['score'], df_graph['RAscore'], 'RA score')\n",
    "pcc_fp_new_logp, pcc_graph_new_logp = plot_scatter(axs[1,0], df_fp['score'], df_fp['logP'], df_graph['score'], df_graph['logP'], 'logP')\n",
    "pcc_fp_new_qed, pcc_graph_new_qed = plot_scatter(axs[1,1], df_fp['score'], df_fp['QED'], df_graph['score'], df_graph['QED'], 'QED')\n",
    "pcc_fp_new_mw, pcc_graph_new_mw = plot_scatter(axs[1,2], df_fp['score'], df_fp['MW'], df_graph['score'], df_graph['MW'], 'MW')\n",
    "pcc_fp_new_natoms, pcc_graph_new_natoms = plot_scatter(axs[1,3], df_fp['score'], df_fp['numheavyatoms'], df_graph['score'], df_graph['numheavyatoms'], 'num heavy atoms')"
   ]
  },
  {
   "cell_type": "code",
   "execution_count": null,
   "metadata": {},
   "outputs": [],
   "source": [
    "# correlations between old scores themselves\n",
    "\n",
    "fig, axs = plt.subplots(2,3,figsize=(15, 10))\n",
    "\n",
    "pccsa_sc = pearsonr(df_fp['SA_score'], df_fp['SC_score'])[0]\n",
    "pccsa_syba = pearsonr(df_fp['SA_score'], df_fp['SYBA_score'])[0]\n",
    "pccsa_ra = pearsonr(df_fp['SA_score'], df_fp['RAscore'])[0]\n",
    "axs[0,0].scatter(df_fp['SA_score'], df_fp['SC_score'], alpha = 0.5, label = f'PCC={pccsa_sc:.3f}', s=2, color='grey');\n",
    "axs[0,0].set_xlabel('SA score');\n",
    "axs[0,0].set_ylabel('SC score');\n",
    "axs[0,0].text(0.7, 0.05, f'PCC={pccsa_sc:.3f}', transform=axs[0,0].transAxes)\n",
    "\n",
    "axs[0,1].scatter(df_fp['SA_score'], df_fp['SYBA_score'], alpha = 0.5, label = f'PCC={pccsa_syba:.3f}', s=2, color='grey');\n",
    "axs[0,1].set_xlabel('SA score');\n",
    "axs[0,1].set_ylabel('SYBA score');\n",
    "axs[0,1].text(0.7, 0.05, f'PCC={pccsa_syba:.3f}', transform=axs[0,1].transAxes)\n",
    "\n",
    "axs[0,2].scatter(df_fp['SA_score'], df_fp['RAscore'], alpha = 0.5, label = f'PCC={pccsa_ra:.3f}', s=2, color='grey');\n",
    "axs[0,2].set_xlabel('SA score');\n",
    "axs[0,2].set_ylabel('RA score');\n",
    "axs[0,2].text(0.7, 0.05, f'PCC={pccsa_ra:.3f}', transform=axs[0,2].transAxes)\n",
    "\n",
    "pccsc_syba = pearsonr(df_fp['SC_score'], df_fp['SYBA_score'])[0]\n",
    "pccsc_ra = pearsonr(df_fp['SC_score'], df_fp['RAscore'])[0]\n",
    "axs[1,0].scatter(df_fp['SC_score'], df_fp['SYBA_score'], alpha = 0.5, label = f'PCC={pccsc_syba:.3f}', s=2, color='grey');\n",
    "axs[1,0].set_xlabel('SC score');\n",
    "axs[1,0].set_ylabel('SYBA score');\n",
    "axs[1,0].text(0.7, 0.05, f'PCC={pccsc_syba:.3f}', transform=axs[1,0].transAxes)\n",
    "\n",
    "axs[1,1].scatter(df_fp['SC_score'], df_fp['RAscore'], alpha = 0.5, label = f'PCC={pccsc_ra:.3f}', s=2, color='grey');\n",
    "axs[1,1].set_xlabel('SC score');\n",
    "axs[1,1].set_ylabel('RA score');\n",
    "axs[1,1].text(0.7, 0.05, f'PCC={pccsc_ra:.3f}', transform=axs[1,1].transAxes)\n",
    "\n",
    "pccsyba_ra = pearsonr(df_fp['SYBA_score'], df_fp['RAscore'])[0]\n",
    "axs[1,2].scatter(df_fp['SYBA_score'], df_fp['RAscore'], alpha = 0.5, label = f'PCC={pccsyba_ra:.3f}', s=2, color='grey');\n",
    "axs[1,2].set_xlabel('SYBA score');\n",
    "axs[1,2].set_ylabel('RA score');\n",
    "axs[1,2].text(0.7, 0.05, f'PCC={pccsyba_ra:.3f}', transform=axs[1,2].transAxes)"
   ]
  },
  {
   "cell_type": "code",
   "execution_count": null,
   "metadata": {},
   "outputs": [],
   "source": [
    "# barplots of correlations\n",
    "import matplotlib.patches as mpatches\n",
    "pccs_fp = [pcc_fp_new_sa, pcc_fp_new_sc, pcc_fp_new_syba, pcc_fp_new_ra, pcc_fp_new_logp, pcc_fp_new_qed, pcc_fp_new_mw, pcc_fp_new_natoms]\n",
    "pccs_graph = [pcc_graph_new_sa, pcc_graph_new_sc, pcc_graph_new_syba, pcc_graph_new_ra, pcc_graph_new_logp, pcc_graph_new_qed, pcc_graph_new_mw, pcc_graph_new_natoms]\n",
    "pccs_old = [pccsa_sc, pccsa_syba, pccsa_ra, pccsc_syba, pccsc_ra, pccsyba_ra]\n",
    "\n",
    "ppcs_all = pccs_fp + pccs_graph + pccs_old\n",
    "\n",
    "# color list based on fp, graph, old\n",
    "colors = ['tab:blue']*8 + ['tab:orange']*8 + ['grey']*6\n",
    "\n",
    "# legends\n",
    "legends = ['FP ~ SA', 'FP ~ SC', 'FP ~ SYBA', 'FP ~ RA', 'FP ~ logP', 'FP ~ QED', 'FP ~ MW', 'FP ~ #atoms', 'Graph ~ SA', 'Graph ~ SC', 'Graph ~ SYBA', 'Graph ~ RA', 'Graph ~ logP', 'Graph ~ QED', 'Graph ~ MW', 'Graph ~ #atoms', 'SA ~ SC', 'SA ~ SYBA', 'SA ~ RA', 'SC ~ SYBA', 'SC ~ RA', 'SYBA ~ RA']\n",
    "\n",
    "# get absolute values\n",
    "ppcs_all = [abs(x) for x in ppcs_all]\n",
    "\n",
    "# make dictionary with colors\n",
    "color_dict = dict(zip(ppcs_all, colors))\n",
    "legends_dict = dict(zip(ppcs_all, legends))\n",
    "\n",
    "# sort by descending order\n",
    "ppcs_all.sort(reverse=True)\n",
    "\n",
    "# get colors and legends in same order\n",
    "colors_sorted = [color_dict[x] for x in ppcs_all]\n",
    "legends_sorted = [legends_dict[x] for x in ppcs_all]\n",
    "\n",
    "# plot absolute values\n",
    "plt.figure(figsize=(10,5));\n",
    "plt.bar(range(len(ppcs_all)), ppcs_all, color=colors_sorted);\n",
    "plt.xticks(range(len(ppcs_all)), legends_sorted, rotation=45, ha='right');\n",
    "plt.ylabel('abs PCC');\n",
    "plt.title('PCCs for all scores');\n",
    "\n",
    "graph_patch = mpatches.Patch(color='tab:orange', label='Graph');\n",
    "fp_patch = mpatches.Patch(color='tab:blue', label='FP');\n",
    "old_patch = mpatches.Patch(color='grey', label='Known scores');\n",
    "plt.legend(handles=[graph_patch, fp_patch, old_patch]);\n"
   ]
  },
  {
   "cell_type": "markdown",
   "metadata": {},
   "source": [
    "### Visualize examples"
   ]
  },
  {
   "cell_type": "code",
   "execution_count": null,
   "metadata": {},
   "outputs": [],
   "source": [
    "# display top and bottom 10 molecules with their scores\n",
    "df_fp.sort_values(by=['score'], inplace=True)\n",
    "df_graph.sort_values(by=['score'], inplace=True)"
   ]
  },
  {
   "cell_type": "code",
   "execution_count": null,
   "metadata": {},
   "outputs": [],
   "source": [
    "n = 10\n",
    "bottom_smi = df_fp[smi_col].head(n).tolist()\n",
    "bottom_mols = [Chem.MolFromSmiles(smi) for smi in bottom_smi]\n",
    "bottom_scores = df_fp['score'].head(n).tolist()\n",
    "bottom_sa = df_fp['SA_score'].head(n).tolist()\n",
    "bottom_sc = df_fp['SC_score'].head(n).tolist()\n",
    "bottom_syba = df_fp['SYBA_score'].head(n).tolist()\n",
    "bottom_ra = df_fp['RAscore'].head(n).tolist()\n",
    "# create legend texts for every mol by zipping the scores together\n",
    "legends = [f'new: {new:.2f}\\n SA: {sa:.2f}\\t SC: {sc:.2f}\\n SYBA: {syba:.2f}\\t RA: {ra:.2f}'\n",
    "              for new, sa, sc, syba, ra in zip(bottom_scores, bottom_sa, bottom_sc, bottom_syba, bottom_ra)]\n",
    "Chem.Draw.MolsToGridImage(bottom_mols, molsPerRow=5, legends=legends, subImgSize=(300,400))"
   ]
  },
  {
   "cell_type": "code",
   "execution_count": null,
   "metadata": {},
   "outputs": [],
   "source": [
    "top_smi = df_fp[smi_col].tail(10).tolist()\n",
    "top_mols = [Chem.MolFromSmiles(smi) for smi in top_smi]\n",
    "top_scores = df_fp['score'].tail(10).tolist()\n",
    "top_sa = df_fp['SA_score'].tail(10).tolist()\n",
    "top_sc = df_fp['SC_score'].tail(10).tolist()\n",
    "top_syba = df_fp['SYBA_score'].tail(10).tolist()\n",
    "top_ra = df_fp['RAscore'].tail(10).tolist()\n",
    "# create legend texts for every mol by zipping the scores together\n",
    "legends = [f'new: {new:.2f}\\n SA: {sa:.2f}\\t SC: {sc:.2f}\\n SYBA: {syba:.2f}\\t RA: {ra:.2f}'\n",
    "              for new, sa, sc, syba, ra in zip(top_scores, top_sa, top_sc, top_syba, top_ra)]\n",
    "Chem.Draw.MolsToGridImage(top_mols, molsPerRow=5, legends=legends, subImgSize=(300,400))"
   ]
  },
  {
   "cell_type": "code",
   "execution_count": null,
   "metadata": {},
   "outputs": [],
   "source": [
    "bottom_smi = df_graph[smi_col].head(n).tolist()\n",
    "bottom_mols = [Chem.MolFromSmiles(smi) for smi in bottom_smi]\n",
    "bottom_scores = df_graph['score'].head(n).tolist()\n",
    "bottom_sa = df_graph['SA_score'].head(n).tolist()\n",
    "bottom_sc = df_graph['SC_score'].head(n).tolist()\n",
    "bottom_syba = df_graph['SYBA_score'].head(n).tolist()\n",
    "bottom_ra = df_graph['RAscore'].head(n).tolist()\n",
    "# create legend texts for every mol by zipping the scores together\n",
    "legends = [f'new: {new:.2f}\\n SA: {sa:.2f}\\t SC: {sc:.2f}\\n SYBA: {syba:.2f}\\t RA: {ra:.2f}'\n",
    "              for new, sa, sc, syba, ra in zip(bottom_scores, bottom_sa, bottom_sc, bottom_syba, bottom_ra)]\n",
    "Chem.Draw.MolsToGridImage(bottom_mols, molsPerRow=5, legends=legends, subImgSize=(300,400))"
   ]
  },
  {
   "cell_type": "code",
   "execution_count": null,
   "metadata": {},
   "outputs": [],
   "source": [
    "top_smi = df_graph[smi_col].tail(10).tolist()\n",
    "top_mols = [Chem.MolFromSmiles(smi) for smi in top_smi]\n",
    "top_scores = df_graph['score'].tail(10).tolist()\n",
    "top_sa = df_graph['SA_score'].tail(10).tolist()\n",
    "top_sc = df_graph['SC_score'].tail(10).tolist()\n",
    "top_syba = df_graph['SYBA_score'].tail(10).tolist()\n",
    "top_ra = df_graph['RAscore'].tail(10).tolist()\n",
    "# create legend texts for every mol by zipping the scores together\n",
    "legends = [f'new: {new:.2f}\\n SA: {sa:.2f}\\t SC: {sc:.2f}\\n SYBA: {syba:.2f}\\t RA: {ra:.2f}'\n",
    "              for new, sa, sc, syba, ra in zip(top_scores, top_sa, top_sc, top_syba, top_ra)]\n",
    "Chem.Draw.MolsToGridImage(top_mols, molsPerRow=5, legends=legends, subImgSize=(300,400))"
   ]
  },
  {
   "cell_type": "code",
   "execution_count": null,
   "metadata": {},
   "outputs": [],
   "source": [
    "# visualize those where the difference is the largest between FP and graph\n",
    "df_combo = pd.merge(df_fp, df_graph, on=smi_col, suffixes=('_fp', '_graph'))\n",
    "df_combo = df_combo[[smi_col, 'score_fp', 'score_graph']]\n",
    "# drop columns that are not needed\n",
    "df_combo['diff'] = df_combo['score_fp'] - df_combo['score_graph']\n",
    "# absolute value\n",
    "df_combo['abs_diff'] = df_combo['diff'].abs()\n",
    "df_combo.head()"
   ]
  },
  {
   "cell_type": "code",
   "execution_count": null,
   "metadata": {},
   "outputs": [],
   "source": [
    "# sort by descending order\n",
    "df_combo.sort_values(by=['abs_diff'], inplace=True, ascending=False)\n",
    "df_combo.head()"
   ]
  },
  {
   "cell_type": "code",
   "execution_count": null,
   "metadata": {},
   "outputs": [],
   "source": [
    "# show top 10\n",
    "top_smi = df_combo[smi_col].head(10).tolist()\n",
    "top_mols = [Chem.MolFromSmiles(smi) for smi in top_smi]\n",
    "top_scores_fp = df_combo['score_fp'].head(10).tolist()\n",
    "top_scores_graph = df_combo['score_graph'].head(10).tolist()\n",
    "top_diff = df_combo['diff'].head(10).tolist()\n",
    "# create legend texts for every mol by zipping the scores together\n",
    "legends = [f'FP: {fp:.2f}\\n Graph: {graph:.2f}\\n Diff: {diff:.2f}'\n",
    "                for fp, graph, diff in zip(top_scores_fp, top_scores_graph, top_diff)]\n",
    "Chem.Draw.MolsToGridImage(top_mols, molsPerRow=5, legends=legends, subImgSize=(300,400))"
   ]
  },
  {
   "cell_type": "code",
   "execution_count": null,
   "metadata": {},
   "outputs": [],
   "source": [
    "# show bottom 10\n",
    "bottom_smi = df_combo[smi_col].tail(10).tolist()\n",
    "bottom_mols = [Chem.MolFromSmiles(smi) for smi in bottom_smi]\n",
    "bottom_scores_fp = df_combo['score_fp'].tail(10).tolist()\n",
    "bottom_scores_graph = df_combo['score_graph'].tail(10).tolist()\n",
    "bottom_diff = df_combo['diff'].tail(10).tolist()\n",
    "# create legend texts for every mol by zipping the scores together\n",
    "legends = [f'FP: {fp:.2f}\\n Graph: {graph:.2f}\\n Diff: {diff:.2f}'\n",
    "                for fp, graph, diff in zip(bottom_scores_fp, bottom_scores_graph, bottom_diff)]\n",
    "Chem.Draw.MolsToGridImage(bottom_mols, molsPerRow=5, legends=legends, subImgSize=(300,400))"
   ]
  },
  {
   "cell_type": "markdown",
   "metadata": {},
   "source": [
    "### Distribution of values"
   ]
  },
  {
   "cell_type": "code",
   "execution_count": null,
   "metadata": {},
   "outputs": [],
   "source": [
    "# plot histograms\n",
    "fig, axs = plt.subplots(2,3,figsize=(15, 10))\n",
    "\n",
    "bins = 50\n",
    "alpha = 0.5\n",
    "density=False\n",
    "axs[0,0].hist(df_fp['score'], bins=bins, alpha=alpha, label='FP',density=density)\n",
    "axs[0,0].set_xlabel('new');\n",
    "axs[0,0].hist(df_graph['score'], bins=bins, alpha=alpha, label='graph', density=density)\n",
    "axs[0,0].legend(loc='upper left');\n",
    "axs[0,1].hist(df_fp['SA_score'], bins=bins, alpha=alpha, density=density, color='k')\n",
    "axs[0,1].set_xlabel('SA score');\n",
    "axs[0,2].hist(df_fp['SC_score'], bins=bins, alpha=alpha, density=density, color='k')\n",
    "axs[0,2].set_xlabel('SC score');\n",
    "axs[1,0].hist(df_fp['SYBA_score'], bins=bins, alpha=alpha, density=density, color='k')\n",
    "axs[1,0].set_xlabel('SYBA score');\n",
    "axs[1,1].hist(df_fp['RAscore'], bins=bins, alpha=alpha, density=density, color='k')\n",
    "axs[1,1].set_xlabel('RA score');"
   ]
  },
  {
   "cell_type": "markdown",
   "metadata": {},
   "source": [
    "### Classification power on hard/easy to synthesize compounds\n",
    "Based on test sets from SYBA classified into ES (easy to synthesis) and HS (hard to synthesis) compounds.\n",
    "Two sources are included: MC (labelled by medicinal chemists) and CP (classified by complexity scores)."
   ]
  },
  {
   "cell_type": "code",
   "execution_count": null,
   "metadata": {},
   "outputs": [],
   "source": [
    "# HS gets label 0, ES gets label 1 based on column label\n",
    "df_fp['label_bin'] = df_fp['label'].apply(lambda x: 0 if x == 'HS' else 1)\n",
    "df_graph['label_bin'] = df_graph['label'].apply(lambda x: 0 if x == 'HS' else 1)"
   ]
  },
  {
   "cell_type": "code",
   "execution_count": null,
   "metadata": {},
   "outputs": [],
   "source": [
    "# calculate ROC AUC, acc, SN and SP\n",
    "from sklearn.metrics import accuracy_score, roc_curve, auc\n",
    "from sklearn.metrics import confusion_matrix\n",
    "\n",
    "roc_curve_fp = roc_curve(df_fp['label_bin'], df_fp['score'])\n",
    "roc_curve_graph = roc_curve(df_graph['label_bin'], df_graph['score'])\n",
    "roc_curve_sa = roc_curve(df_fp['label_bin'], df_fp['SA_score'], pos_label=0)\n",
    "roc_curve_sc = roc_curve(df_fp['label_bin'], df_fp['SC_score'], pos_label=0)\n",
    "roc_curve_syba = roc_curve(df_fp['label_bin'], df_fp['SYBA_score'])\n",
    "roc_curve_ra = roc_curve(df_fp['label_bin'], df_fp['RAscore'])\n",
    "auc_fp = auc(roc_curve_fp[0], roc_curve_fp[1])\n",
    "auc_graph = auc(roc_curve_graph[0], roc_curve_graph[1])\n",
    "auc_sa = auc(roc_curve_sa[0], roc_curve_sa[1])\n",
    "auc_sc = auc(roc_curve_sc[0], roc_curve_sc[1])\n",
    "auc_syba = auc(roc_curve_syba[0], roc_curve_syba[1])\n",
    "auc_ra = auc(roc_curve_ra[0], roc_curve_ra[1])\n"
   ]
  },
  {
   "cell_type": "code",
   "execution_count": null,
   "metadata": {},
   "outputs": [],
   "source": [
    "# plot ROC curve\n",
    "fig, ax = plt.subplots(figsize=(7, 5))\n",
    "ax.plot(roc_curve_fp[0], roc_curve_fp[1], label=f'FP (AUC = {auc_fp:.2f})')\n",
    "ax.plot(roc_curve_graph[0], roc_curve_graph[1], label= f'graph (AUC = {auc_graph:.2f})')\n",
    "ax.plot(roc_curve_sa[0], roc_curve_sa[1], label=f'SA (AUC = {auc_sa:.2f})')\n",
    "ax.plot(roc_curve_sc[0], roc_curve_sc[1], label=f'SC (AUC = {auc_sc:.2f})')\n",
    "ax.plot(roc_curve_syba[0], roc_curve_syba[1], label=f'SYBA (AUC = {auc_syba:.2f})')\n",
    "ax.plot(roc_curve_ra[0], roc_curve_ra[1], label=f'RA (AUC = {auc_ra:.2f})')\n",
    "ax.plot([0, 1], [0, 1], color='navy', linestyle='--')\n",
    "ax.set_xlabel('False Positive Rate')\n",
    "ax.set_ylabel('True Positive Rate')\n",
    "ax.set_title('ROC curve')\n",
    "ax.legend(loc=\"lower right\");\n"
   ]
  },
  {
   "cell_type": "code",
   "execution_count": null,
   "metadata": {},
   "outputs": [],
   "source": [
    "# calculate accuracy, SN and SP\n",
    "# get splitting score by balancing SN and SP (youden index = max(SN + SP - 1))\n",
    "def get_splitting_score(y_true, y_pred, pos_label=1):\n",
    "    fpr, tpr, thresholds = roc_curve(y_true, y_pred, pos_label=pos_label)\n",
    "    # calculate youden index\n",
    "    youden = tpr - fpr\n",
    "    # locate the index\n",
    "    idx = np.argmax(youden)\n",
    "    return thresholds[idx]\n",
    "\n",
    "def get_acc_sn_sp(y_true, y_pred, threshold, bigger = True):\n",
    "    if bigger:\n",
    "        y_pred_bin = np.where(y_pred > threshold, 1, 0)\n",
    "    else:\n",
    "        y_pred_bin = np.where(y_pred < threshold, 1, 0)\n",
    "    acc = accuracy_score(y_true, y_pred_bin)\n",
    "    tn, fp, fn, tp = confusion_matrix(y_true, y_pred_bin).ravel()\n",
    "    sn = tp / (tp + fn)\n",
    "    sp = tn / (tn + fp)\n",
    "    return acc, sn, sp\n",
    "\n",
    "threshold_fp = get_splitting_score(df_fp['label_bin'], df_fp['score'])\n",
    "threshold_graph = get_splitting_score(df_graph['label_bin'], df_graph['score'])\n",
    "threshold_sa = get_splitting_score(df_fp['label_bin'], df_fp['SA_score'], pos_label=0)\n",
    "threshold_sc = get_splitting_score(df_fp['label_bin'], df_fp['SC_score'], pos_label=0)   \n",
    "threshold_syba = get_splitting_score(df_fp['label_bin'], df_fp['SYBA_score'])\n",
    "threshold_ra = get_splitting_score(df_fp['label_bin'], df_fp['RAscore'])\n",
    "\n",
    "acc_fp, sn_fp, sp_fp = get_acc_sn_sp(df_fp['label_bin'], df_fp['score'], threshold_fp)\n",
    "acc_graph, sn_graph, sp_graph = get_acc_sn_sp(df_graph['label_bin'], df_graph['score'], threshold_graph)\n",
    "acc_sa, sn_sa, sp_sa = get_acc_sn_sp(df_fp['label_bin'], df_fp['SA_score'], threshold_sa, bigger=False)\n",
    "acc_sc, sn_sc, sp_sc = get_acc_sn_sp(df_fp['label_bin'], df_fp['SC_score'], threshold_sc, bigger=False)\n",
    "acc_syba, sn_syba, sp_syba = get_acc_sn_sp(df_fp['label_bin'], df_fp['SYBA_score'], threshold_syba)\n",
    "acc_ra, sn_ra, sp_ra = get_acc_sn_sp(df_fp['label_bin'], df_fp['RAscore'], threshold_ra)\n",
    "\n",
    "# plot accuracy, SN and SP\n",
    "fig, ax = plt.subplots(figsize=(7, 5))\n",
    "ax.bar([0, 1, 2, 3, 4, 5], [acc_fp, acc_graph, acc_sa, acc_sc, acc_syba, acc_ra], color='k')\n",
    "ax.set_xticks([0, 1, 2, 3, 4, 5])\n",
    "ax.set_xticklabels(['FP', 'graph', 'SA', 'SC', 'SYBA', 'RA'])\n",
    "ax.set_ylabel('Accuracy')\n",
    "ax.set_title('Accuracy, SN and SP')\n",
    "ax.set_ylim(0, 1)\n",
    "ax.set_yticks(np.arange(0, 1.1, 0.1))\n",
    "ax.set_yticklabels(['0', '10%', '20%', '30%', '40%', '50%', '60%', '70%', '80%', '90%', '100%'])\n",
    "ax2 = ax.twinx()\n",
    "ax2.plot([0, 1, 2, 3, 4, 5], [sn_fp, sn_graph, sn_sa, sn_sc, sn_syba, sn_ra], color='r', marker='o', label='SN')\n",
    "ax2.plot([0, 1, 2, 3, 4, 5], [sp_fp, sp_graph, sp_sa, sp_sc, sp_syba, sp_ra], color='b', marker='o', label='SP')\n",
    "ax2.set_ylim(0, 1)\n",
    "ax2.set_yticks(np.arange(0, 1.1, 0.1))\n",
    "ax2.set_yticklabels(['0', '10%', '20%', '30%', '40%', '50%', '60%', '70%', '80%', '90%', '100%'])\n",
    "ax2.set_ylabel('SN and SP')\n",
    "ax2.legend(loc='upper left');\n"
   ]
  },
  {
   "cell_type": "code",
   "execution_count": null,
   "metadata": {},
   "outputs": [],
   "source": []
  }
 ],
 "metadata": {
  "kernelspec": {
   "display_name": "intuitive-sc",
   "language": "python",
   "name": "python3"
  },
  "language_info": {
   "codemirror_mode": {
    "name": "ipython",
    "version": 3
   },
   "file_extension": ".py",
   "mimetype": "text/x-python",
   "name": "python",
   "nbconvert_exporter": "python",
   "pygments_lexer": "ipython3",
   "version": "3.10.11"
  },
  "orig_nbformat": 4
 },
 "nbformat": 4,
 "nbformat_minor": 2
}
